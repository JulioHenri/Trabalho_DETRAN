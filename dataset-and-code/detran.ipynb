{
  "nbformat": 4,
  "nbformat_minor": 0,
  "metadata": {
    "colab": {
      "name": "detran.ipynb",
      "provenance": [],
      "collapsed_sections": []
    },
    "kernelspec": {
      "name": "python3",
      "display_name": "Python 3"
    },
    "language_info": {
      "name": "python"
    }
  },
  "cells": [
    {
      "cell_type": "markdown",
      "metadata": {
        "id": "cx3tJNgVpIvs"
      },
      "source": [
        "# Importando libs"
      ]
    },
    {
      "cell_type": "code",
      "metadata": {
        "id": "63XtQeifhYWX"
      },
      "source": [
        "import pandas as pd\n",
        "import numpy as np\n",
        "\n",
        "import matplotlib.pyplot as plt\n",
        "import seaborn as sns\n",
        "\n",
        "from scipy import stats\n",
        "from statsmodels.stats import weightstats as stests\n",
        "\n",
        "import warnings\n",
        "warnings.filterwarnings(\"ignore\")\n",
        "%matplotlib inline"
      ],
      "execution_count": 50,
      "outputs": []
    },
    {
      "cell_type": "markdown",
      "metadata": {
        "id": "TKvgMJLapK4P"
      },
      "source": [
        "# Carregando e lendo os dados"
      ]
    },
    {
      "cell_type": "code",
      "metadata": {
        "colab": {
          "base_uri": "https://localhost:8080/",
          "height": 202
        },
        "id": "EZQmTQJFh7sZ",
        "outputId": "962f08a2-7248-4e9c-e7e1-6a6580075819"
      },
      "source": [
        "df = pd.read_excel('Detran.xlsx')\n",
        "df.head()"
      ],
      "execution_count": 51,
      "outputs": [
        {
          "output_type": "execute_result",
          "data": {
            "text/html": [
              "<div>\n",
              "<style scoped>\n",
              "    .dataframe tbody tr th:only-of-type {\n",
              "        vertical-align: middle;\n",
              "    }\n",
              "\n",
              "    .dataframe tbody tr th {\n",
              "        vertical-align: top;\n",
              "    }\n",
              "\n",
              "    .dataframe thead th {\n",
              "        text-align: right;\n",
              "    }\n",
              "</style>\n",
              "<table border=\"1\" class=\"dataframe\">\n",
              "  <thead>\n",
              "    <tr style=\"text-align: right;\">\n",
              "      <th></th>\n",
              "      <th>ID</th>\n",
              "      <th>MUNICIPIO</th>\n",
              "      <th>SEXO</th>\n",
              "      <th>IDADE</th>\n",
              "      <th>CATEGORIA.CNH</th>\n",
              "      <th>TEMPO.CNH</th>\n",
              "      <th>ENVOL. ACIDENTE</th>\n",
              "      <th>Q1</th>\n",
              "      <th>Q2</th>\n",
              "      <th>Q3</th>\n",
              "      <th>Q4</th>\n",
              "      <th>Q5</th>\n",
              "      <th>Q6</th>\n",
              "      <th>Q7</th>\n",
              "      <th>Q8</th>\n",
              "      <th>Q9</th>\n",
              "      <th>Q10</th>\n",
              "    </tr>\n",
              "  </thead>\n",
              "  <tbody>\n",
              "    <tr>\n",
              "      <th>0</th>\n",
              "      <td>1</td>\n",
              "      <td>Salinopolis</td>\n",
              "      <td>M</td>\n",
              "      <td>32</td>\n",
              "      <td>AB</td>\n",
              "      <td>3.0</td>\n",
              "      <td>N</td>\n",
              "      <td>C</td>\n",
              "      <td>B</td>\n",
              "      <td>A</td>\n",
              "      <td>B</td>\n",
              "      <td>B</td>\n",
              "      <td>NaN</td>\n",
              "      <td>NaN</td>\n",
              "      <td>NaN</td>\n",
              "      <td>NaN</td>\n",
              "      <td>NaN</td>\n",
              "    </tr>\n",
              "    <tr>\n",
              "      <th>1</th>\n",
              "      <td>2</td>\n",
              "      <td>Salinopolis</td>\n",
              "      <td>M</td>\n",
              "      <td>38</td>\n",
              "      <td>A</td>\n",
              "      <td>10.0</td>\n",
              "      <td>N</td>\n",
              "      <td>A</td>\n",
              "      <td>B</td>\n",
              "      <td>A</td>\n",
              "      <td>B</td>\n",
              "      <td>B</td>\n",
              "      <td>NaN</td>\n",
              "      <td>NaN</td>\n",
              "      <td>NaN</td>\n",
              "      <td>NaN</td>\n",
              "      <td>NaN</td>\n",
              "    </tr>\n",
              "    <tr>\n",
              "      <th>2</th>\n",
              "      <td>3</td>\n",
              "      <td>Salinopolis</td>\n",
              "      <td>M</td>\n",
              "      <td>42</td>\n",
              "      <td>A</td>\n",
              "      <td>24.0</td>\n",
              "      <td>S</td>\n",
              "      <td>D</td>\n",
              "      <td>B</td>\n",
              "      <td>A</td>\n",
              "      <td>B</td>\n",
              "      <td>B</td>\n",
              "      <td>NaN</td>\n",
              "      <td>NaN</td>\n",
              "      <td>NaN</td>\n",
              "      <td>NaN</td>\n",
              "      <td>NaN</td>\n",
              "    </tr>\n",
              "    <tr>\n",
              "      <th>3</th>\n",
              "      <td>4</td>\n",
              "      <td>Salinopolis</td>\n",
              "      <td>M</td>\n",
              "      <td>24</td>\n",
              "      <td>AB</td>\n",
              "      <td>6.0</td>\n",
              "      <td>N</td>\n",
              "      <td>A</td>\n",
              "      <td>B</td>\n",
              "      <td>A</td>\n",
              "      <td>B</td>\n",
              "      <td>B</td>\n",
              "      <td>NaN</td>\n",
              "      <td>NaN</td>\n",
              "      <td>NaN</td>\n",
              "      <td>NaN</td>\n",
              "      <td>NaN</td>\n",
              "    </tr>\n",
              "    <tr>\n",
              "      <th>4</th>\n",
              "      <td>5</td>\n",
              "      <td>Salinopolis</td>\n",
              "      <td>M</td>\n",
              "      <td>23</td>\n",
              "      <td>AB</td>\n",
              "      <td>6.0</td>\n",
              "      <td>S</td>\n",
              "      <td>A</td>\n",
              "      <td>B</td>\n",
              "      <td>A</td>\n",
              "      <td>B</td>\n",
              "      <td>B</td>\n",
              "      <td>NaN</td>\n",
              "      <td>NaN</td>\n",
              "      <td>NaN</td>\n",
              "      <td>NaN</td>\n",
              "      <td>NaN</td>\n",
              "    </tr>\n",
              "  </tbody>\n",
              "</table>\n",
              "</div>"
            ],
            "text/plain": [
              "   ID    MUNICIPIO SEXO  IDADE CATEGORIA.CNH  ...   Q6   Q7   Q8   Q9  Q10\n",
              "0   1  Salinopolis    M     32            AB  ...  NaN  NaN  NaN  NaN  NaN\n",
              "1   2  Salinopolis    M     38             A  ...  NaN  NaN  NaN  NaN  NaN\n",
              "2   3  Salinopolis    M     42             A  ...  NaN  NaN  NaN  NaN  NaN\n",
              "3   4  Salinopolis    M     24            AB  ...  NaN  NaN  NaN  NaN  NaN\n",
              "4   5  Salinopolis    M     23            AB  ...  NaN  NaN  NaN  NaN  NaN\n",
              "\n",
              "[5 rows x 17 columns]"
            ]
          },
          "metadata": {},
          "execution_count": 51
        }
      ]
    },
    {
      "cell_type": "markdown",
      "metadata": {
        "id": "MF5K0LaxpOS9"
      },
      "source": [
        "# limpeza e exploração do dataset"
      ]
    },
    {
      "cell_type": "code",
      "metadata": {
        "colab": {
          "base_uri": "https://localhost:8080/",
          "height": 202
        },
        "id": "we6nuneZmK49",
        "outputId": "9c74ec93-03de-4166-fdfd-87853f92662c"
      },
      "source": [
        "#removendo colunas desnecessárias\n",
        "\n",
        "df = df.drop(['Q6','Q7','Q8','Q9','Q10'], axis=1)\n",
        "df = df.rename(columns={'CATEGORIA.CNH':'CATEGORIA_CNH',\n",
        "                        'TEMPO.CNH': 'TEMPO_CNH','ENVOL. ACIDENTE':'ENVOL_ACIDENTE'})\n",
        "df.head()"
      ],
      "execution_count": 52,
      "outputs": [
        {
          "output_type": "execute_result",
          "data": {
            "text/html": [
              "<div>\n",
              "<style scoped>\n",
              "    .dataframe tbody tr th:only-of-type {\n",
              "        vertical-align: middle;\n",
              "    }\n",
              "\n",
              "    .dataframe tbody tr th {\n",
              "        vertical-align: top;\n",
              "    }\n",
              "\n",
              "    .dataframe thead th {\n",
              "        text-align: right;\n",
              "    }\n",
              "</style>\n",
              "<table border=\"1\" class=\"dataframe\">\n",
              "  <thead>\n",
              "    <tr style=\"text-align: right;\">\n",
              "      <th></th>\n",
              "      <th>ID</th>\n",
              "      <th>MUNICIPIO</th>\n",
              "      <th>SEXO</th>\n",
              "      <th>IDADE</th>\n",
              "      <th>CATEGORIA_CNH</th>\n",
              "      <th>TEMPO_CNH</th>\n",
              "      <th>ENVOL_ACIDENTE</th>\n",
              "      <th>Q1</th>\n",
              "      <th>Q2</th>\n",
              "      <th>Q3</th>\n",
              "      <th>Q4</th>\n",
              "      <th>Q5</th>\n",
              "    </tr>\n",
              "  </thead>\n",
              "  <tbody>\n",
              "    <tr>\n",
              "      <th>0</th>\n",
              "      <td>1</td>\n",
              "      <td>Salinopolis</td>\n",
              "      <td>M</td>\n",
              "      <td>32</td>\n",
              "      <td>AB</td>\n",
              "      <td>3.0</td>\n",
              "      <td>N</td>\n",
              "      <td>C</td>\n",
              "      <td>B</td>\n",
              "      <td>A</td>\n",
              "      <td>B</td>\n",
              "      <td>B</td>\n",
              "    </tr>\n",
              "    <tr>\n",
              "      <th>1</th>\n",
              "      <td>2</td>\n",
              "      <td>Salinopolis</td>\n",
              "      <td>M</td>\n",
              "      <td>38</td>\n",
              "      <td>A</td>\n",
              "      <td>10.0</td>\n",
              "      <td>N</td>\n",
              "      <td>A</td>\n",
              "      <td>B</td>\n",
              "      <td>A</td>\n",
              "      <td>B</td>\n",
              "      <td>B</td>\n",
              "    </tr>\n",
              "    <tr>\n",
              "      <th>2</th>\n",
              "      <td>3</td>\n",
              "      <td>Salinopolis</td>\n",
              "      <td>M</td>\n",
              "      <td>42</td>\n",
              "      <td>A</td>\n",
              "      <td>24.0</td>\n",
              "      <td>S</td>\n",
              "      <td>D</td>\n",
              "      <td>B</td>\n",
              "      <td>A</td>\n",
              "      <td>B</td>\n",
              "      <td>B</td>\n",
              "    </tr>\n",
              "    <tr>\n",
              "      <th>3</th>\n",
              "      <td>4</td>\n",
              "      <td>Salinopolis</td>\n",
              "      <td>M</td>\n",
              "      <td>24</td>\n",
              "      <td>AB</td>\n",
              "      <td>6.0</td>\n",
              "      <td>N</td>\n",
              "      <td>A</td>\n",
              "      <td>B</td>\n",
              "      <td>A</td>\n",
              "      <td>B</td>\n",
              "      <td>B</td>\n",
              "    </tr>\n",
              "    <tr>\n",
              "      <th>4</th>\n",
              "      <td>5</td>\n",
              "      <td>Salinopolis</td>\n",
              "      <td>M</td>\n",
              "      <td>23</td>\n",
              "      <td>AB</td>\n",
              "      <td>6.0</td>\n",
              "      <td>S</td>\n",
              "      <td>A</td>\n",
              "      <td>B</td>\n",
              "      <td>A</td>\n",
              "      <td>B</td>\n",
              "      <td>B</td>\n",
              "    </tr>\n",
              "  </tbody>\n",
              "</table>\n",
              "</div>"
            ],
            "text/plain": [
              "   ID    MUNICIPIO SEXO  IDADE CATEGORIA_CNH  ...  Q1 Q2 Q3 Q4 Q5\n",
              "0   1  Salinopolis    M     32            AB  ...   C  B  A  B  B\n",
              "1   2  Salinopolis    M     38             A  ...   A  B  A  B  B\n",
              "2   3  Salinopolis    M     42             A  ...   D  B  A  B  B\n",
              "3   4  Salinopolis    M     24            AB  ...   A  B  A  B  B\n",
              "4   5  Salinopolis    M     23            AB  ...   A  B  A  B  B\n",
              "\n",
              "[5 rows x 12 columns]"
            ]
          },
          "metadata": {},
          "execution_count": 52
        }
      ]
    },
    {
      "cell_type": "code",
      "metadata": {
        "colab": {
          "base_uri": "https://localhost:8080/"
        },
        "id": "VJbm9TUlqFd6",
        "outputId": "dc5279f4-751e-4093-f0e8-0cad09d389db"
      },
      "source": [
        "#vendo melhor os valores nulos\n",
        "df.isnull().sum()"
      ],
      "execution_count": 53,
      "outputs": [
        {
          "output_type": "execute_result",
          "data": {
            "text/plain": [
              "ID                  0\n",
              "MUNICIPIO           0\n",
              "SEXO                0\n",
              "IDADE               0\n",
              "CATEGORIA_CNH       6\n",
              "TEMPO_CNH          11\n",
              "ENVOL_ACIDENTE      8\n",
              "Q1                159\n",
              "Q2                159\n",
              "Q3                159\n",
              "Q4                  0\n",
              "Q5                 87\n",
              "dtype: int64"
            ]
          },
          "metadata": {},
          "execution_count": 53
        }
      ]
    },
    {
      "cell_type": "code",
      "metadata": {
        "id": "3ubzfnna12ab"
      },
      "source": [
        "df = df.dropna() #excluindo valores nulos"
      ],
      "execution_count": 54,
      "outputs": []
    },
    {
      "cell_type": "code",
      "metadata": {
        "colab": {
          "base_uri": "https://localhost:8080/"
        },
        "id": "rzRMY6Uin_eS",
        "outputId": "07bd1e21-8972-46ba-d14d-fbf6abfb8677"
      },
      "source": [
        "df.info()"
      ],
      "execution_count": 55,
      "outputs": [
        {
          "output_type": "stream",
          "name": "stdout",
          "text": [
            "<class 'pandas.core.frame.DataFrame'>\n",
            "Int64Index: 109 entries, 0 to 265\n",
            "Data columns (total 12 columns):\n",
            " #   Column          Non-Null Count  Dtype  \n",
            "---  ------          --------------  -----  \n",
            " 0   ID              109 non-null    int64  \n",
            " 1   MUNICIPIO       109 non-null    object \n",
            " 2   SEXO            109 non-null    object \n",
            " 3   IDADE           109 non-null    int64  \n",
            " 4   CATEGORIA_CNH   109 non-null    object \n",
            " 5   TEMPO_CNH       109 non-null    float64\n",
            " 6   ENVOL_ACIDENTE  109 non-null    object \n",
            " 7   Q1              109 non-null    object \n",
            " 8   Q2              109 non-null    object \n",
            " 9   Q3              109 non-null    object \n",
            " 10  Q4              109 non-null    object \n",
            " 11  Q5              109 non-null    object \n",
            "dtypes: float64(1), int64(2), object(9)\n",
            "memory usage: 11.1+ KB\n"
          ]
        }
      ]
    },
    {
      "cell_type": "code",
      "metadata": {
        "colab": {
          "base_uri": "https://localhost:8080/",
          "height": 294
        },
        "id": "8rPhCt2ipVBL",
        "outputId": "2d1ea444-0c0f-4aef-d1f7-a681138dbc18"
      },
      "source": [
        "#análise variáveis quantitativas\n",
        "df.describe()"
      ],
      "execution_count": 56,
      "outputs": [
        {
          "output_type": "execute_result",
          "data": {
            "text/html": [
              "<div>\n",
              "<style scoped>\n",
              "    .dataframe tbody tr th:only-of-type {\n",
              "        vertical-align: middle;\n",
              "    }\n",
              "\n",
              "    .dataframe tbody tr th {\n",
              "        vertical-align: top;\n",
              "    }\n",
              "\n",
              "    .dataframe thead th {\n",
              "        text-align: right;\n",
              "    }\n",
              "</style>\n",
              "<table border=\"1\" class=\"dataframe\">\n",
              "  <thead>\n",
              "    <tr style=\"text-align: right;\">\n",
              "      <th></th>\n",
              "      <th>ID</th>\n",
              "      <th>IDADE</th>\n",
              "      <th>TEMPO_CNH</th>\n",
              "    </tr>\n",
              "  </thead>\n",
              "  <tbody>\n",
              "    <tr>\n",
              "      <th>count</th>\n",
              "      <td>109.000000</td>\n",
              "      <td>109.000000</td>\n",
              "      <td>109.000000</td>\n",
              "    </tr>\n",
              "    <tr>\n",
              "      <th>mean</th>\n",
              "      <td>139.834862</td>\n",
              "      <td>43.302752</td>\n",
              "      <td>17.779817</td>\n",
              "    </tr>\n",
              "    <tr>\n",
              "      <th>std</th>\n",
              "      <td>99.584183</td>\n",
              "      <td>12.116338</td>\n",
              "      <td>11.649478</td>\n",
              "    </tr>\n",
              "    <tr>\n",
              "      <th>min</th>\n",
              "      <td>1.000000</td>\n",
              "      <td>19.000000</td>\n",
              "      <td>1.000000</td>\n",
              "    </tr>\n",
              "    <tr>\n",
              "      <th>25%</th>\n",
              "      <td>29.000000</td>\n",
              "      <td>35.000000</td>\n",
              "      <td>10.000000</td>\n",
              "    </tr>\n",
              "    <tr>\n",
              "      <th>50%</th>\n",
              "      <td>139.000000</td>\n",
              "      <td>42.000000</td>\n",
              "      <td>16.000000</td>\n",
              "    </tr>\n",
              "    <tr>\n",
              "      <th>75%</th>\n",
              "      <td>236.000000</td>\n",
              "      <td>51.000000</td>\n",
              "      <td>25.000000</td>\n",
              "    </tr>\n",
              "    <tr>\n",
              "      <th>max</th>\n",
              "      <td>266.000000</td>\n",
              "      <td>75.000000</td>\n",
              "      <td>53.000000</td>\n",
              "    </tr>\n",
              "  </tbody>\n",
              "</table>\n",
              "</div>"
            ],
            "text/plain": [
              "               ID       IDADE   TEMPO_CNH\n",
              "count  109.000000  109.000000  109.000000\n",
              "mean   139.834862   43.302752   17.779817\n",
              "std     99.584183   12.116338   11.649478\n",
              "min      1.000000   19.000000    1.000000\n",
              "25%     29.000000   35.000000   10.000000\n",
              "50%    139.000000   42.000000   16.000000\n",
              "75%    236.000000   51.000000   25.000000\n",
              "max    266.000000   75.000000   53.000000"
            ]
          },
          "metadata": {},
          "execution_count": 56
        }
      ]
    },
    {
      "cell_type": "code",
      "metadata": {
        "colab": {
          "base_uri": "https://localhost:8080/"
        },
        "id": "5LdrL8VRm55K",
        "outputId": "9d1da4cc-5def-4730-9752-49552ca3cfb9"
      },
      "source": [
        "#contagem de valores para cada questão\n",
        "print(df.Q1.value_counts())\n",
        "print(df.Q2.value_counts())\n",
        "print(df.Q3.value_counts())\n",
        "print(df.Q4.value_counts())\n"
      ],
      "execution_count": 57,
      "outputs": [
        {
          "output_type": "stream",
          "name": "stdout",
          "text": [
            "B    46\n",
            "A    31\n",
            "C    17\n",
            "D    15\n",
            "Name: Q1, dtype: int64\n",
            "B    97\n",
            "A    11\n",
            "D     1\n",
            "Name: Q2, dtype: int64\n",
            "A    84\n",
            "D    17\n",
            "C     4\n",
            "B     4\n",
            "Name: Q3, dtype: int64\n",
            "B    108\n",
            "D      1\n",
            "Name: Q4, dtype: int64\n"
          ]
        }
      ]
    },
    {
      "cell_type": "markdown",
      "metadata": {
        "id": "EGnP4aaHLJ1V"
      },
      "source": [
        "##Sexo por questão"
      ]
    },
    {
      "cell_type": "code",
      "metadata": {
        "colab": {
          "base_uri": "https://localhost:8080/"
        },
        "id": "PwZlkTQhEec1",
        "outputId": "93cb5421-672a-4794-f1b7-417e39601a0d"
      },
      "source": [
        "group1 = df.groupby(by=['SEXO','Q1'])['Q1'].count()\n",
        "group1"
      ],
      "execution_count": 58,
      "outputs": [
        {
          "output_type": "execute_result",
          "data": {
            "text/plain": [
              "SEXO  Q1\n",
              "F     A     10\n",
              "      B     16\n",
              "      C      4\n",
              "      D      1\n",
              "M     A     21\n",
              "      B     30\n",
              "      C     13\n",
              "      D     14\n",
              "Name: Q1, dtype: int64"
            ]
          },
          "metadata": {},
          "execution_count": 58
        }
      ]
    },
    {
      "cell_type": "code",
      "metadata": {
        "colab": {
          "base_uri": "https://localhost:8080/"
        },
        "id": "hWwjQFHwLFgf",
        "outputId": "883f1fc7-76ff-4b1f-ebab-f7f4f518faf5"
      },
      "source": [
        "group2 = df.groupby(by=['SEXO','Q2'])['Q2'].count()\n",
        "group2"
      ],
      "execution_count": 59,
      "outputs": [
        {
          "output_type": "execute_result",
          "data": {
            "text/plain": [
              "SEXO  Q2\n",
              "F     A      3\n",
              "      B     27\n",
              "      D      1\n",
              "M     A      8\n",
              "      B     70\n",
              "Name: Q2, dtype: int64"
            ]
          },
          "metadata": {},
          "execution_count": 59
        }
      ]
    },
    {
      "cell_type": "code",
      "metadata": {
        "colab": {
          "base_uri": "https://localhost:8080/"
        },
        "id": "5k6YIBb4LJE1",
        "outputId": "79a9dce6-eeef-4117-be68-b2c785e1aae0"
      },
      "source": [
        "group3 = df.groupby(by=['SEXO','Q3'])['Q3'].count()\n",
        "group3"
      ],
      "execution_count": 60,
      "outputs": [
        {
          "output_type": "execute_result",
          "data": {
            "text/plain": [
              "SEXO  Q3\n",
              "F     A     24\n",
              "      B      1\n",
              "      D      6\n",
              "M     A     60\n",
              "      B      3\n",
              "      C      4\n",
              "      D     11\n",
              "Name: Q3, dtype: int64"
            ]
          },
          "metadata": {},
          "execution_count": 60
        }
      ]
    },
    {
      "cell_type": "code",
      "metadata": {
        "colab": {
          "base_uri": "https://localhost:8080/"
        },
        "id": "DNNKlzP_J71N",
        "outputId": "31d6d2a0-0bee-422a-e71f-6fb85872f31b"
      },
      "source": [
        "group4 = df.groupby(by=['SEXO','Q4'])['Q4'].count()\n",
        "group4"
      ],
      "execution_count": 61,
      "outputs": [
        {
          "output_type": "execute_result",
          "data": {
            "text/plain": [
              "SEXO  Q4\n",
              "F     B     31\n",
              "M     B     77\n",
              "      D      1\n",
              "Name: Q4, dtype: int64"
            ]
          },
          "metadata": {},
          "execution_count": 61
        }
      ]
    },
    {
      "cell_type": "code",
      "metadata": {
        "colab": {
          "base_uri": "https://localhost:8080/"
        },
        "id": "BINMFczuLgBF",
        "outputId": "95bed237-5716-40b0-9b1b-0167509d3998"
      },
      "source": [
        "group5 = df.groupby(by=['SEXO','Q5'])['Q5'].count()\n",
        "group5"
      ],
      "execution_count": 62,
      "outputs": [
        {
          "output_type": "execute_result",
          "data": {
            "text/plain": [
              "SEXO  Q5\n",
              "F     B     31\n",
              "M     A      2\n",
              "      B     76\n",
              "Name: Q5, dtype: int64"
            ]
          },
          "metadata": {},
          "execution_count": 62
        }
      ]
    },
    {
      "cell_type": "markdown",
      "metadata": {
        "id": "8-v3xRoMLoBR"
      },
      "source": [
        "## Categoria CNH por questão"
      ]
    },
    {
      "cell_type": "code",
      "metadata": {
        "colab": {
          "base_uri": "https://localhost:8080/"
        },
        "id": "j44bFh37Lr0f",
        "outputId": "492593b0-02e2-4161-e21b-d03353f3da00"
      },
      "source": [
        "group1 = df.groupby(by=['CATEGORIA_CNH','Q1'])['Q1'].count()\n",
        "group1"
      ],
      "execution_count": 63,
      "outputs": [
        {
          "output_type": "execute_result",
          "data": {
            "text/plain": [
              "CATEGORIA_CNH  Q1\n",
              "A              A      1\n",
              "               B      3\n",
              "               C      1\n",
              "               D      2\n",
              "AB             A     18\n",
              "               B     19\n",
              "               C      7\n",
              "               D      7\n",
              "AD             B      1\n",
              "               D      1\n",
              "AE             B      2\n",
              "B              A      9\n",
              "               B     16\n",
              "               C      8\n",
              "               D      3\n",
              "C              D      1\n",
              "D              A      3\n",
              "               B      4\n",
              "               C      1\n",
              "               D      1\n",
              "E              B      1\n",
              "Name: Q1, dtype: int64"
            ]
          },
          "metadata": {},
          "execution_count": 63
        }
      ]
    },
    {
      "cell_type": "code",
      "metadata": {
        "colab": {
          "base_uri": "https://localhost:8080/"
        },
        "id": "zfmSSY30Lrt0",
        "outputId": "bb387d99-b8eb-49ad-e303-6d31f9f58acd"
      },
      "source": [
        "group2 = df.groupby(by=['CATEGORIA_CNH','Q2'])['Q2'].count()\n",
        "group2"
      ],
      "execution_count": 64,
      "outputs": [
        {
          "output_type": "execute_result",
          "data": {
            "text/plain": [
              "CATEGORIA_CNH  Q2\n",
              "A              B      7\n",
              "AB             A      7\n",
              "               B     43\n",
              "               D      1\n",
              "AD             A      1\n",
              "               B      1\n",
              "AE             B      2\n",
              "B              A      2\n",
              "               B     34\n",
              "C              B      1\n",
              "D              B      9\n",
              "E              A      1\n",
              "Name: Q2, dtype: int64"
            ]
          },
          "metadata": {},
          "execution_count": 64
        }
      ]
    },
    {
      "cell_type": "code",
      "metadata": {
        "colab": {
          "base_uri": "https://localhost:8080/"
        },
        "id": "iikO5zTrLroF",
        "outputId": "cadf3ff5-3fda-4380-851d-2c8483a056dc"
      },
      "source": [
        "group3 = df.groupby(by=['CATEGORIA_CNH','Q3'])['Q3'].count()\n",
        "group3"
      ],
      "execution_count": 65,
      "outputs": [
        {
          "output_type": "execute_result",
          "data": {
            "text/plain": [
              "CATEGORIA_CNH  Q3\n",
              "A              A      5\n",
              "               D      2\n",
              "AB             A     39\n",
              "               B      3\n",
              "               C      1\n",
              "               D      8\n",
              "AD             A      2\n",
              "AE             A      2\n",
              "B              A     30\n",
              "               B      1\n",
              "               C      1\n",
              "               D      4\n",
              "C              D      1\n",
              "D              A      6\n",
              "               C      2\n",
              "               D      1\n",
              "E              D      1\n",
              "Name: Q3, dtype: int64"
            ]
          },
          "metadata": {},
          "execution_count": 65
        }
      ]
    },
    {
      "cell_type": "code",
      "metadata": {
        "colab": {
          "base_uri": "https://localhost:8080/"
        },
        "id": "ag6kFTxnLrXl",
        "outputId": "f2282ed6-a151-492b-9558-5b07107c5e48"
      },
      "source": [
        "group4 = df.groupby(by=['CATEGORIA_CNH','Q4'])['Q4'].count()\n",
        "group4"
      ],
      "execution_count": 66,
      "outputs": [
        {
          "output_type": "execute_result",
          "data": {
            "text/plain": [
              "CATEGORIA_CNH  Q4\n",
              "A              B      7\n",
              "AB             B     50\n",
              "               D      1\n",
              "AD             B      2\n",
              "AE             B      2\n",
              "B              B     36\n",
              "C              B      1\n",
              "D              B      9\n",
              "E              B      1\n",
              "Name: Q4, dtype: int64"
            ]
          },
          "metadata": {},
          "execution_count": 66
        }
      ]
    },
    {
      "cell_type": "code",
      "metadata": {
        "colab": {
          "base_uri": "https://localhost:8080/"
        },
        "id": "W0EZl0oEMsT4",
        "outputId": "4011e33f-ac54-4c87-aabc-2f469617c3bf"
      },
      "source": [
        "group5 = df.groupby(by=['CATEGORIA_CNH','Q5'])['Q5'].count()\n",
        "group5"
      ],
      "execution_count": 67,
      "outputs": [
        {
          "output_type": "execute_result",
          "data": {
            "text/plain": [
              "CATEGORIA_CNH  Q5\n",
              "A              B      7\n",
              "AB             B     51\n",
              "AD             B      2\n",
              "AE             B      2\n",
              "B              A      1\n",
              "               B     35\n",
              "C              B      1\n",
              "D              A      1\n",
              "               B      8\n",
              "E              B      1\n",
              "Name: Q5, dtype: int64"
            ]
          },
          "metadata": {},
          "execution_count": 67
        }
      ]
    },
    {
      "cell_type": "markdown",
      "metadata": {
        "id": "y7mql9wyNGG4"
      },
      "source": [
        "## Município por questão"
      ]
    },
    {
      "cell_type": "code",
      "metadata": {
        "colab": {
          "base_uri": "https://localhost:8080/"
        },
        "id": "muU8c75fM-Hj",
        "outputId": "aec733a8-856e-45c2-eb05-5e19a5df3774"
      },
      "source": [
        "group1 = df.groupby(by=['MUNICIPIO','Q1'])['Q1'].count()\n",
        "group1"
      ],
      "execution_count": 68,
      "outputs": [
        {
          "output_type": "execute_result",
          "data": {
            "text/plain": [
              "MUNICIPIO    Q1\n",
              "Benevides    A      3\n",
              "             B     10\n",
              "             C      2\n",
              "             D      1\n",
              "Bragaa       A     15\n",
              "             B     17\n",
              "             C      8\n",
              "             D      8\n",
              "Mosqueiro    A      1\n",
              "             B      1\n",
              "             C      1\n",
              "             D      1\n",
              "Salinopolis  A     12\n",
              "             B     18\n",
              "             C      6\n",
              "             D      5\n",
              "Name: Q1, dtype: int64"
            ]
          },
          "metadata": {},
          "execution_count": 68
        }
      ]
    },
    {
      "cell_type": "code",
      "metadata": {
        "colab": {
          "base_uri": "https://localhost:8080/"
        },
        "id": "ZFoF8S7jNKUj",
        "outputId": "255e227a-2215-4e1a-ab3d-d864a27c1291"
      },
      "source": [
        "group2 = df.groupby(by=['MUNICIPIO','Q2'])['Q2'].count()\n",
        "group2"
      ],
      "execution_count": 69,
      "outputs": [
        {
          "output_type": "execute_result",
          "data": {
            "text/plain": [
              "MUNICIPIO    Q2\n",
              "Benevides    A      2\n",
              "             B     14\n",
              "Bragaa       A      5\n",
              "             B     42\n",
              "             D      1\n",
              "Mosqueiro    B      4\n",
              "Salinopolis  A      4\n",
              "             B     37\n",
              "Name: Q2, dtype: int64"
            ]
          },
          "metadata": {},
          "execution_count": 69
        }
      ]
    },
    {
      "cell_type": "code",
      "metadata": {
        "colab": {
          "base_uri": "https://localhost:8080/"
        },
        "id": "uWXbH5ZYNKOK",
        "outputId": "c71311d6-3e68-4561-b372-aeaf5d143dde"
      },
      "source": [
        "group3 = df.groupby(by=['MUNICIPIO','Q3'])['Q3'].count()\n",
        "group3"
      ],
      "execution_count": 70,
      "outputs": [
        {
          "output_type": "execute_result",
          "data": {
            "text/plain": [
              "MUNICIPIO    Q3\n",
              "Benevides    A     12\n",
              "             D      4\n",
              "Bragaa       A     35\n",
              "             B      3\n",
              "             C      2\n",
              "             D      8\n",
              "Mosqueiro    A      3\n",
              "             B      1\n",
              "Salinopolis  A     34\n",
              "             C      2\n",
              "             D      5\n",
              "Name: Q3, dtype: int64"
            ]
          },
          "metadata": {},
          "execution_count": 70
        }
      ]
    },
    {
      "cell_type": "code",
      "metadata": {
        "colab": {
          "base_uri": "https://localhost:8080/"
        },
        "id": "bOmk1HFRNKH3",
        "outputId": "77b9ad8a-f559-47ad-bb68-e0125280daa3"
      },
      "source": [
        "group4 = df.groupby(by=['MUNICIPIO','Q4'])['Q4'].count()\n",
        "group4"
      ],
      "execution_count": 71,
      "outputs": [
        {
          "output_type": "execute_result",
          "data": {
            "text/plain": [
              "MUNICIPIO    Q4\n",
              "Benevides    B     16\n",
              "Bragaa       B     48\n",
              "Mosqueiro    B      4\n",
              "Salinopolis  B     40\n",
              "             D      1\n",
              "Name: Q4, dtype: int64"
            ]
          },
          "metadata": {},
          "execution_count": 71
        }
      ]
    },
    {
      "cell_type": "code",
      "metadata": {
        "colab": {
          "base_uri": "https://localhost:8080/"
        },
        "id": "Pl1NnkHlNKBQ",
        "outputId": "9e1fb042-c2d0-4456-a2d0-f25c5e4f3226"
      },
      "source": [
        "group5 = df.groupby(by=['MUNICIPIO','Q5'])['Q5'].count()\n",
        "group5"
      ],
      "execution_count": 72,
      "outputs": [
        {
          "output_type": "execute_result",
          "data": {
            "text/plain": [
              "MUNICIPIO    Q5\n",
              "Benevides    B     16\n",
              "Bragaa       B     48\n",
              "Mosqueiro    B      4\n",
              "Salinopolis  A      2\n",
              "             B     39\n",
              "Name: Q5, dtype: int64"
            ]
          },
          "metadata": {},
          "execution_count": 72
        }
      ]
    },
    {
      "cell_type": "markdown",
      "metadata": {
        "id": "mivl4bezOkhE"
      },
      "source": [
        "## Envolvido em acidente por questão"
      ]
    },
    {
      "cell_type": "code",
      "metadata": {
        "colab": {
          "base_uri": "https://localhost:8080/"
        },
        "id": "2A_FtDKTJ6GB",
        "outputId": "2c741f5a-68d5-462f-f51d-c8450ba3d201"
      },
      "source": [
        "group1 = df.groupby(by=['ENVOL_ACIDENTE','Q1'])['Q1'].count()\n",
        "group1"
      ],
      "execution_count": 73,
      "outputs": [
        {
          "output_type": "execute_result",
          "data": {
            "text/plain": [
              "ENVOL_ACIDENTE  Q1\n",
              "N               A     28\n",
              "                B     36\n",
              "                C     13\n",
              "                D      8\n",
              "S               A      3\n",
              "                B     10\n",
              "                C      4\n",
              "                D      7\n",
              "Name: Q1, dtype: int64"
            ]
          },
          "metadata": {},
          "execution_count": 73
        }
      ]
    },
    {
      "cell_type": "code",
      "metadata": {
        "colab": {
          "base_uri": "https://localhost:8080/"
        },
        "id": "2EBa_kK-OgU0",
        "outputId": "24625fd4-3af2-4835-d82c-8a3ca109095a"
      },
      "source": [
        "group2 = df.groupby(by=['ENVOL_ACIDENTE','Q2'])['Q2'].count()\n",
        "group2"
      ],
      "execution_count": 74,
      "outputs": [
        {
          "output_type": "execute_result",
          "data": {
            "text/plain": [
              "ENVOL_ACIDENTE  Q2\n",
              "N               A     10\n",
              "                B     74\n",
              "                D      1\n",
              "S               A      1\n",
              "                B     23\n",
              "Name: Q2, dtype: int64"
            ]
          },
          "metadata": {},
          "execution_count": 74
        }
      ]
    },
    {
      "cell_type": "code",
      "metadata": {
        "colab": {
          "base_uri": "https://localhost:8080/"
        },
        "id": "DdJ7Y6WEOqcA",
        "outputId": "6396042e-3add-4316-cc96-89ec149b5413"
      },
      "source": [
        "group3 = df.groupby(by=['ENVOL_ACIDENTE','Q3'])['Q3'].count()\n",
        "group3"
      ],
      "execution_count": 75,
      "outputs": [
        {
          "output_type": "execute_result",
          "data": {
            "text/plain": [
              "ENVOL_ACIDENTE  Q3\n",
              "N               A     65\n",
              "                B      2\n",
              "                C      3\n",
              "                D     15\n",
              "S               A     19\n",
              "                B      2\n",
              "                C      1\n",
              "                D      2\n",
              "Name: Q3, dtype: int64"
            ]
          },
          "metadata": {},
          "execution_count": 75
        }
      ]
    },
    {
      "cell_type": "code",
      "metadata": {
        "colab": {
          "base_uri": "https://localhost:8080/"
        },
        "id": "uZ1xKlyjOqlh",
        "outputId": "9c43b74e-7c91-4ba2-949b-717db532201e"
      },
      "source": [
        "group4 = df.groupby(by=['ENVOL_ACIDENTE','Q4'])['Q4'].count()\n",
        "group4"
      ],
      "execution_count": 76,
      "outputs": [
        {
          "output_type": "execute_result",
          "data": {
            "text/plain": [
              "ENVOL_ACIDENTE  Q4\n",
              "N               B     85\n",
              "S               B     23\n",
              "                D      1\n",
              "Name: Q4, dtype: int64"
            ]
          },
          "metadata": {},
          "execution_count": 76
        }
      ]
    },
    {
      "cell_type": "code",
      "metadata": {
        "colab": {
          "base_uri": "https://localhost:8080/"
        },
        "id": "nK-BBUj0Oqul",
        "outputId": "12f01d8f-d6ec-45bb-a5cf-d95aefe0cd57"
      },
      "source": [
        "group5 = df.groupby(by=['ENVOL_ACIDENTE','Q5'])['Q5'].count()\n",
        "group5"
      ],
      "execution_count": 77,
      "outputs": [
        {
          "output_type": "execute_result",
          "data": {
            "text/plain": [
              "ENVOL_ACIDENTE  Q5\n",
              "N               B     85\n",
              "S               A      2\n",
              "                B     22\n",
              "Name: Q5, dtype: int64"
            ]
          },
          "metadata": {},
          "execution_count": 77
        }
      ]
    },
    {
      "cell_type": "markdown",
      "metadata": {
        "id": "zPkaB-h5J_0z"
      },
      "source": [
        "# Adicionando o gabarito ao df"
      ]
    },
    {
      "cell_type": "code",
      "metadata": {
        "id": "g-VPx96S9vP6"
      },
      "source": [
        "def correcao(df):\n",
        "  if df.Q1 == 'SI':\n",
        "    return 'SI'\n",
        "  elif df.Q1 == 'B':\n",
        "    return 1\n",
        "  else:\n",
        "    return 0\n",
        "\n",
        "df['q1_gab'] = df.apply(correcao, axis = 1)"
      ],
      "execution_count": 78,
      "outputs": []
    },
    {
      "cell_type": "code",
      "metadata": {
        "id": "HkXbDlbR-g_O"
      },
      "source": [
        "def correcao2(df):\n",
        "  if df.Q2 == 'SI':\n",
        "    return 'SI'\n",
        "  elif df.Q2 == 'B':\n",
        "    return 1\n",
        "  else:\n",
        "    return 0\n",
        "\n",
        "df['q2_gab'] = df.apply(correcao2, axis = 1)"
      ],
      "execution_count": 79,
      "outputs": []
    },
    {
      "cell_type": "code",
      "metadata": {
        "id": "yk4-IUHk-nif"
      },
      "source": [
        "def correcao3(df):\n",
        "  if df.Q3 == 'SI':\n",
        "    return 'SI'\n",
        "  elif df.Q3 == 'A':\n",
        "    return 1\n",
        "  else:\n",
        "    return 0\n",
        "\n",
        "df['q3_gab'] = df.apply(correcao3, axis = 1)"
      ],
      "execution_count": 80,
      "outputs": []
    },
    {
      "cell_type": "code",
      "metadata": {
        "id": "8RQjZfvx-rwu"
      },
      "source": [
        "def correcao4(df):\n",
        "  if df.Q4 == 'SI':\n",
        "    return 'SI'\n",
        "  elif df.Q4 == 'B':\n",
        "    return 1\n",
        "  else:\n",
        "    return 0\n",
        "\n",
        "df['q4_gab'] = df.apply(correcao4, axis = 1)"
      ],
      "execution_count": 81,
      "outputs": []
    },
    {
      "cell_type": "code",
      "metadata": {
        "id": "5thWD09H-vYn"
      },
      "source": [
        "def correcao5(df):\n",
        "  if df.Q5 == 'SI':\n",
        "    return 'SI'\n",
        "  elif df.Q5 == 'B':\n",
        "    return 1\n",
        "  else:\n",
        "    return 0\n",
        "\n",
        "df['q5_gab'] = df.apply(correcao5, axis = 1)"
      ],
      "execution_count": 82,
      "outputs": []
    },
    {
      "cell_type": "code",
      "metadata": {
        "colab": {
          "base_uri": "https://localhost:8080/",
          "height": 355
        },
        "id": "iheBPPx5IbAm",
        "outputId": "d026002b-2871-4cf3-eb5f-04d96992cac7"
      },
      "source": [
        "df.head(10) #1 para respostas corretas e 0 para incorretas"
      ],
      "execution_count": 83,
      "outputs": [
        {
          "output_type": "execute_result",
          "data": {
            "text/html": [
              "<div>\n",
              "<style scoped>\n",
              "    .dataframe tbody tr th:only-of-type {\n",
              "        vertical-align: middle;\n",
              "    }\n",
              "\n",
              "    .dataframe tbody tr th {\n",
              "        vertical-align: top;\n",
              "    }\n",
              "\n",
              "    .dataframe thead th {\n",
              "        text-align: right;\n",
              "    }\n",
              "</style>\n",
              "<table border=\"1\" class=\"dataframe\">\n",
              "  <thead>\n",
              "    <tr style=\"text-align: right;\">\n",
              "      <th></th>\n",
              "      <th>ID</th>\n",
              "      <th>MUNICIPIO</th>\n",
              "      <th>SEXO</th>\n",
              "      <th>IDADE</th>\n",
              "      <th>CATEGORIA_CNH</th>\n",
              "      <th>TEMPO_CNH</th>\n",
              "      <th>ENVOL_ACIDENTE</th>\n",
              "      <th>Q1</th>\n",
              "      <th>Q2</th>\n",
              "      <th>Q3</th>\n",
              "      <th>Q4</th>\n",
              "      <th>Q5</th>\n",
              "      <th>q1_gab</th>\n",
              "      <th>q2_gab</th>\n",
              "      <th>q3_gab</th>\n",
              "      <th>q4_gab</th>\n",
              "      <th>q5_gab</th>\n",
              "    </tr>\n",
              "  </thead>\n",
              "  <tbody>\n",
              "    <tr>\n",
              "      <th>0</th>\n",
              "      <td>1</td>\n",
              "      <td>Salinopolis</td>\n",
              "      <td>M</td>\n",
              "      <td>32</td>\n",
              "      <td>AB</td>\n",
              "      <td>3.0</td>\n",
              "      <td>N</td>\n",
              "      <td>C</td>\n",
              "      <td>B</td>\n",
              "      <td>A</td>\n",
              "      <td>B</td>\n",
              "      <td>B</td>\n",
              "      <td>0</td>\n",
              "      <td>1</td>\n",
              "      <td>1</td>\n",
              "      <td>1</td>\n",
              "      <td>1</td>\n",
              "    </tr>\n",
              "    <tr>\n",
              "      <th>1</th>\n",
              "      <td>2</td>\n",
              "      <td>Salinopolis</td>\n",
              "      <td>M</td>\n",
              "      <td>38</td>\n",
              "      <td>A</td>\n",
              "      <td>10.0</td>\n",
              "      <td>N</td>\n",
              "      <td>A</td>\n",
              "      <td>B</td>\n",
              "      <td>A</td>\n",
              "      <td>B</td>\n",
              "      <td>B</td>\n",
              "      <td>0</td>\n",
              "      <td>1</td>\n",
              "      <td>1</td>\n",
              "      <td>1</td>\n",
              "      <td>1</td>\n",
              "    </tr>\n",
              "    <tr>\n",
              "      <th>2</th>\n",
              "      <td>3</td>\n",
              "      <td>Salinopolis</td>\n",
              "      <td>M</td>\n",
              "      <td>42</td>\n",
              "      <td>A</td>\n",
              "      <td>24.0</td>\n",
              "      <td>S</td>\n",
              "      <td>D</td>\n",
              "      <td>B</td>\n",
              "      <td>A</td>\n",
              "      <td>B</td>\n",
              "      <td>B</td>\n",
              "      <td>0</td>\n",
              "      <td>1</td>\n",
              "      <td>1</td>\n",
              "      <td>1</td>\n",
              "      <td>1</td>\n",
              "    </tr>\n",
              "    <tr>\n",
              "      <th>3</th>\n",
              "      <td>4</td>\n",
              "      <td>Salinopolis</td>\n",
              "      <td>M</td>\n",
              "      <td>24</td>\n",
              "      <td>AB</td>\n",
              "      <td>6.0</td>\n",
              "      <td>N</td>\n",
              "      <td>A</td>\n",
              "      <td>B</td>\n",
              "      <td>A</td>\n",
              "      <td>B</td>\n",
              "      <td>B</td>\n",
              "      <td>0</td>\n",
              "      <td>1</td>\n",
              "      <td>1</td>\n",
              "      <td>1</td>\n",
              "      <td>1</td>\n",
              "    </tr>\n",
              "    <tr>\n",
              "      <th>4</th>\n",
              "      <td>5</td>\n",
              "      <td>Salinopolis</td>\n",
              "      <td>M</td>\n",
              "      <td>23</td>\n",
              "      <td>AB</td>\n",
              "      <td>6.0</td>\n",
              "      <td>S</td>\n",
              "      <td>A</td>\n",
              "      <td>B</td>\n",
              "      <td>A</td>\n",
              "      <td>B</td>\n",
              "      <td>B</td>\n",
              "      <td>0</td>\n",
              "      <td>1</td>\n",
              "      <td>1</td>\n",
              "      <td>1</td>\n",
              "      <td>1</td>\n",
              "    </tr>\n",
              "    <tr>\n",
              "      <th>5</th>\n",
              "      <td>6</td>\n",
              "      <td>Salinopolis</td>\n",
              "      <td>M</td>\n",
              "      <td>64</td>\n",
              "      <td>D</td>\n",
              "      <td>35.0</td>\n",
              "      <td>N</td>\n",
              "      <td>B</td>\n",
              "      <td>B</td>\n",
              "      <td>A</td>\n",
              "      <td>B</td>\n",
              "      <td>B</td>\n",
              "      <td>1</td>\n",
              "      <td>1</td>\n",
              "      <td>1</td>\n",
              "      <td>1</td>\n",
              "      <td>1</td>\n",
              "    </tr>\n",
              "    <tr>\n",
              "      <th>6</th>\n",
              "      <td>7</td>\n",
              "      <td>Salinopolis</td>\n",
              "      <td>M</td>\n",
              "      <td>51</td>\n",
              "      <td>AB</td>\n",
              "      <td>25.0</td>\n",
              "      <td>N</td>\n",
              "      <td>B</td>\n",
              "      <td>B</td>\n",
              "      <td>A</td>\n",
              "      <td>B</td>\n",
              "      <td>B</td>\n",
              "      <td>1</td>\n",
              "      <td>1</td>\n",
              "      <td>1</td>\n",
              "      <td>1</td>\n",
              "      <td>1</td>\n",
              "    </tr>\n",
              "    <tr>\n",
              "      <th>7</th>\n",
              "      <td>8</td>\n",
              "      <td>Salinopolis</td>\n",
              "      <td>M</td>\n",
              "      <td>45</td>\n",
              "      <td>AB</td>\n",
              "      <td>27.0</td>\n",
              "      <td>N</td>\n",
              "      <td>B</td>\n",
              "      <td>B</td>\n",
              "      <td>A</td>\n",
              "      <td>B</td>\n",
              "      <td>B</td>\n",
              "      <td>1</td>\n",
              "      <td>1</td>\n",
              "      <td>1</td>\n",
              "      <td>1</td>\n",
              "      <td>1</td>\n",
              "    </tr>\n",
              "    <tr>\n",
              "      <th>8</th>\n",
              "      <td>9</td>\n",
              "      <td>Salinopolis</td>\n",
              "      <td>M</td>\n",
              "      <td>60</td>\n",
              "      <td>D</td>\n",
              "      <td>20.0</td>\n",
              "      <td>S</td>\n",
              "      <td>B</td>\n",
              "      <td>B</td>\n",
              "      <td>C</td>\n",
              "      <td>B</td>\n",
              "      <td>A</td>\n",
              "      <td>1</td>\n",
              "      <td>1</td>\n",
              "      <td>0</td>\n",
              "      <td>1</td>\n",
              "      <td>0</td>\n",
              "    </tr>\n",
              "    <tr>\n",
              "      <th>9</th>\n",
              "      <td>10</td>\n",
              "      <td>Salinopolis</td>\n",
              "      <td>M</td>\n",
              "      <td>54</td>\n",
              "      <td>AB</td>\n",
              "      <td>14.0</td>\n",
              "      <td>N</td>\n",
              "      <td>A</td>\n",
              "      <td>B</td>\n",
              "      <td>D</td>\n",
              "      <td>B</td>\n",
              "      <td>B</td>\n",
              "      <td>0</td>\n",
              "      <td>1</td>\n",
              "      <td>0</td>\n",
              "      <td>1</td>\n",
              "      <td>1</td>\n",
              "    </tr>\n",
              "  </tbody>\n",
              "</table>\n",
              "</div>"
            ],
            "text/plain": [
              "   ID    MUNICIPIO SEXO  IDADE  ... q2_gab  q3_gab q4_gab q5_gab\n",
              "0   1  Salinopolis    M     32  ...      1       1      1      1\n",
              "1   2  Salinopolis    M     38  ...      1       1      1      1\n",
              "2   3  Salinopolis    M     42  ...      1       1      1      1\n",
              "3   4  Salinopolis    M     24  ...      1       1      1      1\n",
              "4   5  Salinopolis    M     23  ...      1       1      1      1\n",
              "5   6  Salinopolis    M     64  ...      1       1      1      1\n",
              "6   7  Salinopolis    M     51  ...      1       1      1      1\n",
              "7   8  Salinopolis    M     45  ...      1       1      1      1\n",
              "8   9  Salinopolis    M     60  ...      1       0      1      0\n",
              "9  10  Salinopolis    M     54  ...      1       0      1      1\n",
              "\n",
              "[10 rows x 17 columns]"
            ]
          },
          "metadata": {},
          "execution_count": 83
        }
      ]
    },
    {
      "cell_type": "markdown",
      "metadata": {
        "id": "cFPiP32SVKNv"
      },
      "source": [
        "# Resultado quantitativo das repostas ao questionário por questão"
      ]
    },
    {
      "cell_type": "code",
      "metadata": {
        "colab": {
          "base_uri": "https://localhost:8080/",
          "height": 604
        },
        "id": "Zi8ID0EMIcsL",
        "outputId": "46cb7033-0762-4e89-e446-9884bb6f2bd3"
      },
      "source": [
        "plt.figure(figsize = (21, 9))\n",
        "plt.suptitle('Resultado do questionário por questão', fontsize=20)\n",
        "\n",
        "plt.subplot(2,3,1)\n",
        "ax = sns.countplot(df.q1_gab, palette=\"Set2\")\n",
        "ax.set_ylabel('Quantidade', fontsize= 13)\n",
        "ax.set_xlabel('')\n",
        "ax.set_xticklabels(['Errado','Certo'], fontsize=13)\n",
        "plt.title('Questão 1')\n",
        "\n",
        "\n",
        "plt.subplot(2,3,2)\n",
        "ax = sns.countplot(df.q2_gab, palette=\"Set2\")\n",
        "ax.set_ylabel('Quantidade', fontsize= 13)\n",
        "ax.set_xlabel('')\n",
        "ax.set_xticklabels(['Errado','Certo'], fontsize=13)\n",
        "plt.title('Questão 2')\n",
        "\n",
        "\n",
        "plt.subplot(2,3,3)\n",
        "ax = sns.countplot(df.q3_gab, palette=\"Set2\")\n",
        "ax.set_ylabel('Quantidade', fontsize= 13)\n",
        "ax.set_xlabel('')\n",
        "ax.set_xticklabels(['Errado','Certo'], fontsize=13)\n",
        "plt.title('Questão 3')\n",
        "\n",
        "\n",
        "plt.subplot(2,3,4)\n",
        "ax = sns.countplot(df.q4_gab, palette=\"Set2\")\n",
        "ax.set_ylabel('Quantidade', fontsize= 13)\n",
        "ax.set_xlabel('')\n",
        "ax.set_xticklabels(['Errado','Certo'], fontsize=13)\n",
        "plt.title('Questão 4')\n",
        "\n",
        "\n",
        "plt.subplot(2,3,5)\n",
        "ax = sns.countplot(df.q5_gab, palette=\"Set2\")\n",
        "ax.set_ylabel('Quantidade', fontsize= 13)\n",
        "ax.set_xlabel('')\n",
        "ax.set_xticklabels(['Errado','Certo'], fontsize=13)\n",
        "plt.title('Questão 5');\n"
      ],
      "execution_count": 84,
      "outputs": [
        {
          "output_type": "display_data",
          "data": {
            "image/png": "[encoded data removed]",
            "text/plain": [
              "<Figure size 1512x648 with 5 Axes>"
            ]
          },
          "metadata": {
            "needs_background": "light"
          }
        }
      ]
    },
    {
      "cell_type": "markdown",
      "metadata": {
        "id": "POOu_faRVX4b"
      },
      "source": [
        "#Catplot por idade por questão"
      ]
    },
    {
      "cell_type": "code",
      "metadata": {
        "colab": {
          "base_uri": "https://localhost:8080/",
          "height": 446
        },
        "id": "IyrTqnz_KWE2",
        "outputId": "b8a78572-d007-4360-fbf1-e9924c29a101"
      },
      "source": [
        "ax = sns.catplot(x='q1_gab', y='IDADE', data=df, height=6, aspect=2, palette=\"Set2\")\n",
        "ax.set_ylabels('Idade', fontsize=13)\n",
        "ax.set_xlabels('')\n",
        "ax.set_xticklabels(['Errado','Certo'], fontsize=13);\n",
        "ax"
      ],
      "execution_count": 85,
      "outputs": [
        {
          "output_type": "execute_result",
          "data": {
            "text/plain": [
              "<seaborn.axisgrid.FacetGrid at 0x7f2ebc94a0d0>"
            ]
          },
          "metadata": {},
          "execution_count": 85
        },
        {
          "output_type": "display_data",
          "data": {
            "image/png": "[encoded data removed]",
            "text/plain": [
              "<Figure size 864x432 with 1 Axes>"
            ]
          },
          "metadata": {
            "needs_background": "light"
          }
        }
      ]
    },
    {
      "cell_type": "markdown",
      "metadata": {
        "id": "73361PYQVdyp"
      },
      "source": [
        "# Violinplot do tempo de cnh por questão"
      ]
    },
    {
      "cell_type": "code",
      "metadata": {
        "colab": {
          "base_uri": "https://localhost:8080/",
          "height": 622
        },
        "id": "usnermYORYGn",
        "outputId": "e390066e-53d0-40d7-ace9-09230c35ff9f"
      },
      "source": [
        "plt.figure(figsize = (21, 9))\n",
        "plt.suptitle('Resultado do questionário por questão', fontsize=20)\n",
        "\n",
        "plt.subplot(2,3,1)\n",
        "ax = sns.violinplot(x='q1_gab', y='TEMPO_CNH', data=df, palette=\"Set2\", scale='count') #mostrando o acumulo dos dados\n",
        "ax.set_ylabel('Tempo de CNH (em anos)', fontsize=13)\n",
        "ax.set_xlabel('')\n",
        "ax.set_xticklabels(['Errado','Certo'], fontsize=13)\n",
        "plt.title('Questão 1')\n",
        "\n",
        "\n",
        "plt.subplot(2,3,2)\n",
        "ax = sns.violinplot(x='q2_gab', y='TEMPO_CNH', data=df, palette=\"Set2\", scale='count') #mostrando o acumulo dos dados\n",
        "ax.set_ylabel('Tempo de CNH (em anos)', fontsize=13)\n",
        "ax.set_xlabel('')\n",
        "ax.set_xticklabels(['Errado','Certo'], fontsize=13)\n",
        "plt.title('Questão 2')\n",
        "\n",
        "plt.subplot(2,3,3)\n",
        "ax = sns.violinplot(x='q3_gab', y='TEMPO_CNH', data=df, palette=\"Set2\", scale='count') #mostrando o acumulo dos dados\n",
        "ax.set_ylabel('Tempo de CNH (em anos)', fontsize=13)\n",
        "ax.set_xlabel('')\n",
        "ax.set_xticklabels(['Errado','Certo'], fontsize=13)\n",
        "plt.title('Questão 3')\n",
        "\n",
        "plt.subplot(2,3,4)\n",
        "ax = sns.violinplot(x='q4_gab', y='TEMPO_CNH', data=df, palette=\"Set2\", scale='count') #mostrando o acumulo dos dados\n",
        "ax.set_ylabel('Tempo de a CNH (em anos)', fontsize=13)\n",
        "ax.set_xlabel('')\n",
        "ax.set_xticklabels(['Errado','Certo'], fontsize=13)\n",
        "plt.title('Questão 4')\n",
        "\n",
        "plt.subplot(2,3,5)\n",
        "ax = sns.violinplot(x='q5_gab', y='TEMPO_CNH', data=df, palette=\"Set2\", scale='count') #mostrando o acumulo dos dados\n",
        "ax.set_ylabel('Tempo de CNH (em anos)', fontsize=13)\n",
        "ax.set_xlabel('')\n",
        "ax.set_xticklabels(['Errado','Certo'], fontsize=13);\n",
        "plt.title('Questão 5');\n"
      ],
      "execution_count": 103,
      "outputs": [
        {
          "output_type": "execute_result",
          "data": {
            "text/plain": [
              "Text(0.5, 1.0, 'Questão 5')"
            ]
          },
          "metadata": {},
          "execution_count": 103
        },
        {
          "output_type": "display_data",
          "data": {
            "image/png": "[encoded data removed]",
            "text/plain": [
              "<Figure size 1512x648 with 5 Axes>"
            ]
          },
          "metadata": {
            "needs_background": "light"
          }
        }
      ]
    },
    {
      "cell_type": "markdown",
      "metadata": {
        "id": "bUkpOnSqVj1D"
      },
      "source": [
        "#Boxplots da idade relacionada com as variáveis qualitativas por questão"
      ]
    },
    {
      "cell_type": "code",
      "metadata": {
        "colab": {
          "base_uri": "https://localhost:8080/",
          "height": 622
        },
        "id": "1bXzokw5R795",
        "outputId": "f77b8d1f-0f6b-499f-e148-936027db982a"
      },
      "source": [
        "plt.figure(figsize = (21, 9))\n",
        "plt.suptitle('Resultado do questionário por questão', fontsize=20)\n",
        "\n",
        "plt.subplot(2,3,1)\n",
        "ax = sns.boxplot(x='q1_gab', y='IDADE', hue='SEXO', data=df, palette=\"Set2\")\n",
        "ax.set_ylabel('Idade (em anos)')\n",
        "ax.set_xlabel('')\n",
        "ax.set_xticklabels(['Errado','Certo'], fontsize=13)\n",
        "plt.title('Questão 1')\n",
        "\n",
        "plt.subplot(2,3,2)\n",
        "ax = sns.boxplot(x='q2_gab', y='IDADE', hue='SEXO', data=df, palette=\"Set2\")\n",
        "ax.set_ylabel('Idade (em anos)')\n",
        "ax.set_xlabel('')\n",
        "ax.set_xticklabels(['Errado','Certo'], fontsize=13)\n",
        "plt.title('Questão 2')\n",
        "\n",
        "plt.subplot(2,3,3)\n",
        "ax = sns.boxplot(x='q3_gab', y='IDADE', hue='SEXO', data=df, palette=\"Set2\")\n",
        "ax.set_ylabel('Idade (em anos)')\n",
        "ax.set_xlabel('')\n",
        "ax.set_xticklabels(['Errado','Certo'], fontsize=13)\n",
        "plt.title('Questão 3')\n",
        "\n",
        "plt.subplot(2,3,4)\n",
        "ax = sns.boxplot(x='q4_gab', y='IDADE', hue='SEXO', data=df, palette=\"Set2\")\n",
        "ax.set_ylabel('Idade (em anos)')\n",
        "ax.set_xlabel('')\n",
        "ax.set_xticklabels(['Errado','Certo'], fontsize=13)\n",
        "plt.title('Questão 4')\n",
        "\n",
        "plt.subplot(2,3,5)\n",
        "ax = sns.boxplot(x='q5_gab', y='IDADE', hue='SEXO', data=df, palette=\"Set2\")\n",
        "ax.set_ylabel('Idade (em anos)')\n",
        "ax.set_xlabel('')\n",
        "ax.set_xticklabels(['Errado','Certo'], fontsize=13);\n",
        "plt.title('Questão 5')\n"
      ],
      "execution_count": 104,
      "outputs": [
        {
          "output_type": "execute_result",
          "data": {
            "text/plain": [
              "Text(0.5, 1.0, 'Questão 5')"
            ]
          },
          "metadata": {},
          "execution_count": 104
        },
        {
          "output_type": "display_data",
          "data": {
            "image/png": "[encoded data removed]",
            "text/plain": [
              "<Figure size 1512x648 with 5 Axes>"
            ]
          },
          "metadata": {
            "needs_background": "light"
          }
        }
      ]
    },
    {
      "cell_type": "code",
      "metadata": {
        "colab": {
          "base_uri": "https://localhost:8080/",
          "height": 622
        },
        "id": "OzCOGE4ISjX5",
        "outputId": "a2cf8bcb-6f9b-4876-ad92-5b3c7ee63cca"
      },
      "source": [
        "plt.figure(figsize = (21, 9))\n",
        "plt.suptitle('Resultado do questionário por questão', fontsize=20)\n",
        "\n",
        "plt.subplot(2,3,1)\n",
        "ax = sns.boxplot(x='q1_gab', y='IDADE', hue='MUNICIPIO', data=df, palette=\"Set2\")\n",
        "ax.set_ylabel('Idade (em anos)')\n",
        "ax.set_xlabel('')\n",
        "ax.set_xticklabels(['Errado','Certo'], fontsize=13)\n",
        "ax.get_legend().remove()\n",
        "plt.title('Questão 1')\n",
        "\n",
        "plt.subplot(2,3,2)\n",
        "ax = sns.boxplot(x='q2_gab', y='IDADE', hue='MUNICIPIO', data=df, palette=\"Set2\")\n",
        "ax.set_ylabel('Idade (em anos)')\n",
        "ax.set_xlabel('')\n",
        "ax.set_xticklabels(['Errado','Certo'], fontsize=13)\n",
        "ax.get_legend().remove()\n",
        "plt.title('Questão 2')\n",
        "\n",
        "plt.subplot(2,3,3)\n",
        "ax = sns.boxplot(x='q3_gab', y='IDADE', hue='MUNICIPIO', data=df, palette=\"Set2\")\n",
        "ax.set_ylabel('Idade (em anos)')\n",
        "ax.set_xlabel('')\n",
        "ax.set_xticklabels(['Errado','Certo'], fontsize=13)\n",
        "ax.get_legend().remove()\n",
        "plt.title('Questão 3')\n",
        "\n",
        "plt.subplot(2,3,4)\n",
        "ax = sns.boxplot(x='q4_gab', y='IDADE', hue='MUNICIPIO', data=df, palette=\"Set2\")\n",
        "ax.set_ylabel('Idade (em anos)')\n",
        "ax.set_xlabel('')\n",
        "ax.set_xticklabels(['Errado','Certo'], fontsize=13)\n",
        "ax.get_legend().remove()\n",
        "plt.title('Questão 4')\n",
        "\n",
        "plt.subplot(2,3,5)\n",
        "ax = sns.boxplot(x='q5_gab', y='IDADE', hue='MUNICIPIO', data=df, palette=\"Set2\")\n",
        "ax.set_ylabel('Idade (em anos)')\n",
        "ax.set_xlabel('')\n",
        "ax.set_xticklabels(['Errado','Certo'], fontsize=13);\n",
        "plt.title('Questão 5')\n"
      ],
      "execution_count": 105,
      "outputs": [
        {
          "output_type": "execute_result",
          "data": {
            "text/plain": [
              "Text(0.5, 1.0, 'Questão 5')"
            ]
          },
          "metadata": {},
          "execution_count": 105
        },
        {
          "output_type": "display_data",
          "data": {
            "image/png": "[encoded data removed]",
            "text/plain": [
              "<Figure size 1512x648 with 5 Axes>"
            ]
          },
          "metadata": {
            "needs_background": "light"
          }
        }
      ]
    },
    {
      "cell_type": "code",
      "metadata": {
        "colab": {
          "base_uri": "https://localhost:8080/",
          "height": 622
        },
        "id": "Z4o79hDHOcHd",
        "outputId": "ecac4240-546e-41af-d546-723641ee4022"
      },
      "source": [
        "plt.figure(figsize = (21, 9))\n",
        "plt.suptitle('Resultado do questionário por questão', fontsize=20)\n",
        "\n",
        "plt.subplot(2,3,1)\n",
        "ax = sns.boxplot(x='q1_gab', y='IDADE', hue='ENVOL_ACIDENTE', data=df, palette=\"Set2\")\n",
        "ax.set_ylabel('Idade (em anos)')\n",
        "ax.set_xlabel('')\n",
        "ax.set_xticklabels(['Errado','Certo'], fontsize=13)\n",
        "ax.get_legend().remove()\n",
        "plt.title('Questão 1')\n",
        "\n",
        "plt.subplot(2,3,2)\n",
        "ax = sns.boxplot(x='q2_gab', y='IDADE', hue='ENVOL_ACIDENTE', data=df, palette=\"Set2\")\n",
        "ax.set_ylabel('Idade (em anos)')\n",
        "ax.set_xlabel('')\n",
        "ax.set_xticklabels(['Errado','Certo'], fontsize=13)\n",
        "ax.get_legend().remove()\n",
        "plt.title('Questão 2')\n",
        "\n",
        "plt.subplot(2,3,3)\n",
        "ax = sns.boxplot(x='q3_gab', y='IDADE', hue='ENVOL_ACIDENTE', data=df, palette=\"Set2\")\n",
        "ax.set_ylabel('Idade (em anos)')\n",
        "ax.set_xlabel('')\n",
        "ax.set_xticklabels(['Errado','Certo'], fontsize=13)\n",
        "ax.get_legend().remove()\n",
        "plt.title('Questão 3')\n",
        "\n",
        "plt.subplot(2,3,4)\n",
        "ax = sns.boxplot(x='q4_gab', y='IDADE', hue='ENVOL_ACIDENTE', data=df, palette=\"Set2\")\n",
        "ax.set_ylabel('Idade (em anos)')\n",
        "ax.set_xlabel('')\n",
        "ax.set_xticklabels(['Errado','Certo'], fontsize=13)\n",
        "plt.title('Questão 4')\n",
        "\n",
        "plt.subplot(2,3,5)\n",
        "ax = sns.boxplot(x='q5_gab', y='IDADE', hue='ENVOL_ACIDENTE', data=df, palette=\"Set2\")\n",
        "ax.set_ylabel('Idade (em anos)')\n",
        "ax.set_xlabel('')\n",
        "ax.set_xticklabels(['Errado','Certo'], fontsize=13);\n",
        "plt.title('Questão 5');\n"
      ],
      "execution_count": 106,
      "outputs": [
        {
          "output_type": "execute_result",
          "data": {
            "text/plain": [
              "Text(0.5, 1.0, 'Questão 5')"
            ]
          },
          "metadata": {},
          "execution_count": 106
        },
        {
          "output_type": "display_data",
          "data": {
            "image/png": "[encoded data removed]",
            "text/plain": [
              "<Figure size 1512x648 with 5 Axes>"
            ]
          },
          "metadata": {
            "needs_background": "light"
          }
        }
      ]
    },
    {
      "cell_type": "markdown",
      "metadata": {
        "id": "OliYsMYDVxUJ"
      },
      "source": [
        "#Boxplots do tempo de cnh relacionada com as variáveis qualitativas por questão"
      ]
    },
    {
      "cell_type": "code",
      "metadata": {
        "colab": {
          "base_uri": "https://localhost:8080/",
          "height": 622
        },
        "id": "O-HC-6V8V5Q7",
        "outputId": "03a72b17-dca5-4dfd-8556-3e4bb0f37691"
      },
      "source": [
        "plt.figure(figsize = (21, 9))\n",
        "plt.suptitle('Resultado do questionário por questão', fontsize=20)\n",
        "\n",
        "plt.subplot(2,3,1)\n",
        "ax = sns.boxplot(x='q1_gab', y='TEMPO_CNH', hue='SEXO', data=df, palette=\"Set2\")\n",
        "ax.set_ylabel('Tempo que o motorista tem a CNH (em anos)')\n",
        "ax.set_xlabel('')\n",
        "ax.set_xticklabels(['Errado','Certo'], fontsize=13)\n",
        "plt.title('Questão 1')\n",
        "\n",
        "plt.subplot(2,3,2)\n",
        "ax = sns.boxplot(x='q2_gab', y='TEMPO_CNH', hue='SEXO', data=df, palette=\"Set2\")\n",
        "ax.set_ylabel('Tempo que o motorista tem a CNH (em anos)')\n",
        "ax.set_xlabel('')\n",
        "ax.set_xticklabels(['Errado','Certo'], fontsize=13)\n",
        "plt.title('Questão 2')\n",
        "\n",
        "plt.subplot(2,3,3)\n",
        "ax = sns.boxplot(x='q3_gab', y='TEMPO_CNH', hue='SEXO', data=df, palette=\"Set2\")\n",
        "ax.set_ylabel('Tempo que o motorista tem a CNH (em anos)')\n",
        "ax.set_xlabel('')\n",
        "ax.set_xticklabels(['Errado','Certo'], fontsize=13)\n",
        "plt.title('Questão 3')\n",
        "\n",
        "plt.subplot(2,3,4)\n",
        "ax = sns.boxplot(x='q4_gab', y='TEMPO_CNH', hue='SEXO', data=df, palette=\"Set2\")\n",
        "ax.set_ylabel('Tempo que o motorista tem a CNH (em anos)')\n",
        "ax.set_xlabel('')\n",
        "ax.set_xticklabels(['Errado','Certo'], fontsize=13)\n",
        "plt.title('Questão 4')\n",
        "\n",
        "plt.subplot(2,3,5)\n",
        "ax = sns.boxplot(x='q5_gab', y='TEMPO_CNH', hue='SEXO', data=df, palette=\"Set2\")\n",
        "ax.set_ylabel('Tempo que o motorista tem a CNH (em anos)')\n",
        "ax.set_xlabel('')\n",
        "ax.set_xticklabels(['Errado','Certo'], fontsize=13);\n",
        "plt.title('Questão 5')\n"
      ],
      "execution_count": 107,
      "outputs": [
        {
          "output_type": "execute_result",
          "data": {
            "text/plain": [
              "Text(0.5, 1.0, 'Questão 5')"
            ]
          },
          "metadata": {},
          "execution_count": 107
        },
        {
          "output_type": "display_data",
          "data": {
            "image/png": "[encoded data removed]",
            "text/plain": [
              "<Figure size 1512x648 with 5 Axes>"
            ]
          },
          "metadata": {
            "needs_background": "light"
          }
        }
      ]
    },
    {
      "cell_type": "code",
      "metadata": {
        "colab": {
          "base_uri": "https://localhost:8080/",
          "height": 468
        },
        "id": "GYUlecGJWJFa",
        "outputId": "e7ae5f87-a388-4ae6-cb6d-159d51739423"
      },
      "source": [
        "plt.figure(figsize = (21, 9))\n",
        "plt.suptitle('Resultado do questionário por questão', fontsize=20)\n",
        "\n",
        "plt.subplot(2,3,1)\n",
        "ax = sns.boxplot(x='q1_gab', y='TEMPO_CNH', hue='MUNICIPIO', data=df, palette=\"Set2\")\n",
        "ax.set_ylabel('Tempo que o motorista tem a CNH (em anos)')\n",
        "ax.set_xlabel('')\n",
        "ax.set_xticklabels(['Errado','Certo'], fontsize=13)\n",
        "plt.title('Questão 1')\n",
        "\n",
        "plt.subplot(2,3,2)\n",
        "ax = sns.boxplot(x='q2_gab', y='TEMPO_CNH', hue='MUNICIPIO', data=df, palette=\"Set2\")\n",
        "ax.set_ylabel('Tempo que o motorista tem a CNH (em anos)')\n",
        "ax.set_xlabel('')\n",
        "ax.set_xticklabels(['Errado','Certo'], fontsize=13)\n",
        "plt.title('Questão 2')\n",
        "\n",
        "plt.subplot(2,3,3)\n",
        "ax = sns.boxplot(x='q3_gab', y='TEMPO_CNH', hue='MUNICIPIO', data=df, palette=\"Set2\")\n",
        "ax.set_ylabel('Tempo que o motorista tem a CNH (em anos)')\n",
        "ax.set_xlabel('')\n",
        "ax.set_xticklabels(['Errado','Certo'], fontsize=13)\n",
        "ax.get_legend().remove()\n",
        "plt.title('Questão 3')\n",
        "\n",
        "plt.subplot(2,3,4)\n",
        "ax = sns.boxplot(x='q4_gab', y='TEMPO_CNH', hue='MUNICIPIO', data=df, palette=\"Set2\")\n",
        "ax.set_ylabel('Tempo que o motorista tem a CNH (em anos)')\n",
        "ax.set_xlabel('')\n",
        "ax.set_xticklabels(['Errado','Certo'], fontsize=13)\n",
        "ax.get_legend().remove()\n",
        "plt.title('Questão 4')\n",
        "\n",
        "plt.subplot(2,3,5)\n",
        "ax = sns.boxplot(x='q5_gab', y='TEMPO_CNH', hue='MUNICIPIO', data=df, palette=\"Set2\")\n",
        "ax.set_ylabel('Tempo que o motorista tem a CNH (em anos)')\n",
        "ax.set_xlabel('')\n",
        "ax.set_xticklabels(['Errado','Certo'], fontsize=13);\n",
        "plt.title('Questão 5');\n"
      ],
      "execution_count": 108,
      "outputs": [
        {
          "output_type": "execute_result",
          "data": {
            "text/plain": [
              "Text(0.5, 1.0, 'Questão 5')"
            ]
          },
          "metadata": {},
          "execution_count": 108
        },
        {
          "output_type": "display_data",
          "data": {
            "image/png": "[encoded data removed]",
            "text/plain": [
              "<Figure size 1512x648 with 5 Axes>"
            ]
          },
          "metadata": {
            "needs_background": "light"
          }
        }
      ]
    },
    {
      "cell_type": "code",
      "metadata": {
        "colab": {
          "base_uri": "https://localhost:8080/",
          "height": 468
        },
        "id": "nVoStJoBWNuL",
        "outputId": "902b0b42-bce5-4e2c-fcc0-022993086d9f"
      },
      "source": [
        "plt.figure(figsize = (21, 9))\n",
        "plt.suptitle('Resultado do questionário por questão', fontsize=20)\n",
        "\n",
        "plt.subplot(2,3,1)\n",
        "ax = sns.boxplot(x='q1_gab', y='TEMPO_CNH', hue='ENVOL_ACIDENTE', data=df, palette=\"Set2\")\n",
        "ax.set_ylabel('Tempo que o motorista tem a CNH (em anos)')\n",
        "ax.set_xlabel('')\n",
        "ax.set_xticklabels(['Errado','Certo'], fontsize=13)\n",
        "ax.get_legend().remove()\n",
        "plt.title('Questão 1')\n",
        "\n",
        "plt.subplot(2,3,2)\n",
        "ax = sns.boxplot(x='q2_gab', y='TEMPO_CNH', hue='ENVOL_ACIDENTE', data=df, palette=\"Set2\")\n",
        "ax.set_ylabel('Tempo que o motorista tem a CNH (em anos)')\n",
        "ax.set_xlabel('')\n",
        "ax.set_xticklabels(['Errado','Certo'], fontsize=13)\n",
        "ax.get_legend().remove()\n",
        "plt.title('Questão 2')\n",
        "\n",
        "plt.subplot(2,3,3)\n",
        "ax = sns.boxplot(x='q3_gab', y='TEMPO_CNH', hue='ENVOL_ACIDENTE', data=df, palette=\"Set2\")\n",
        "ax.set_ylabel('Tempo que o motorista tem a CNH (em anos)')\n",
        "ax.set_xlabel('')\n",
        "ax.set_xticklabels(['Errado','Certo'], fontsize=13)\n",
        "ax.get_legend().remove()\n",
        "plt.title('Questão 3')\n",
        "\n",
        "plt.subplot(2,3,4)\n",
        "ax = sns.boxplot(x='q4_gab', y='TEMPO_CNH', hue='ENVOL_ACIDENTE', data=df, palette=\"Set2\")\n",
        "ax.set_ylabel('Tempo que o motorista tem a CNH (em anos)')\n",
        "ax.set_xlabel('')\n",
        "ax.set_xticklabels(['Errado','Certo'], fontsize=13)\n",
        "plt.title('Questão 4')\n",
        "\n",
        "plt.subplot(2,3,5)\n",
        "ax = sns.boxplot(x='q5_gab', y='TEMPO_CNH', hue='ENVOL_ACIDENTE', data=df, palette=\"Set2\")\n",
        "ax.set_ylabel('Tempo que o motorista tem a CNH (em anos)')\n",
        "ax.set_xlabel('')\n",
        "ax.set_xticklabels(['Errado','Certo'], fontsize=13);\n",
        "plt.title('Questão 5')\n"
      ],
      "execution_count": 109,
      "outputs": [
        {
          "output_type": "execute_result",
          "data": {
            "text/plain": [
              "Text(0.5, 1.0, 'Questão 5')"
            ]
          },
          "metadata": {},
          "execution_count": 109
        },
        {
          "output_type": "display_data",
          "data": {
            "image/png": "[encoded data removed]",
            "text/plain": [
              "<Figure size 1512x648 with 5 Axes>"
            ]
          },
          "metadata": {
            "needs_background": "light"
          }
        }
      ]
    },
    {
      "cell_type": "markdown",
      "metadata": {
        "id": "Fhlhfm85eTi7"
      },
      "source": [
        "# DISTPLOT"
      ]
    },
    {
      "cell_type": "code",
      "metadata": {
        "colab": {
          "base_uri": "https://localhost:8080/",
          "height": 222
        },
        "id": "XdKYjzb_fBY8",
        "outputId": "f9cb6cdf-997f-4a28-cb4f-9a12b1ae2a5b"
      },
      "source": [
        "df.head()"
      ],
      "execution_count": 95,
      "outputs": [
        {
          "output_type": "execute_result",
          "data": {
            "text/html": [
              "<div>\n",
              "<style scoped>\n",
              "    .dataframe tbody tr th:only-of-type {\n",
              "        vertical-align: middle;\n",
              "    }\n",
              "\n",
              "    .dataframe tbody tr th {\n",
              "        vertical-align: top;\n",
              "    }\n",
              "\n",
              "    .dataframe thead th {\n",
              "        text-align: right;\n",
              "    }\n",
              "</style>\n",
              "<table border=\"1\" class=\"dataframe\">\n",
              "  <thead>\n",
              "    <tr style=\"text-align: right;\">\n",
              "      <th></th>\n",
              "      <th>ID</th>\n",
              "      <th>MUNICIPIO</th>\n",
              "      <th>SEXO</th>\n",
              "      <th>IDADE</th>\n",
              "      <th>CATEGORIA_CNH</th>\n",
              "      <th>TEMPO_CNH</th>\n",
              "      <th>ENVOL_ACIDENTE</th>\n",
              "      <th>Q1</th>\n",
              "      <th>Q2</th>\n",
              "      <th>Q3</th>\n",
              "      <th>Q4</th>\n",
              "      <th>Q5</th>\n",
              "      <th>q1_gab</th>\n",
              "      <th>q2_gab</th>\n",
              "      <th>q3_gab</th>\n",
              "      <th>q4_gab</th>\n",
              "      <th>q5_gab</th>\n",
              "    </tr>\n",
              "  </thead>\n",
              "  <tbody>\n",
              "    <tr>\n",
              "      <th>0</th>\n",
              "      <td>1</td>\n",
              "      <td>Salinopolis</td>\n",
              "      <td>M</td>\n",
              "      <td>32</td>\n",
              "      <td>AB</td>\n",
              "      <td>3.0</td>\n",
              "      <td>N</td>\n",
              "      <td>C</td>\n",
              "      <td>B</td>\n",
              "      <td>A</td>\n",
              "      <td>B</td>\n",
              "      <td>B</td>\n",
              "      <td>0</td>\n",
              "      <td>1</td>\n",
              "      <td>1</td>\n",
              "      <td>1</td>\n",
              "      <td>1</td>\n",
              "    </tr>\n",
              "    <tr>\n",
              "      <th>1</th>\n",
              "      <td>2</td>\n",
              "      <td>Salinopolis</td>\n",
              "      <td>M</td>\n",
              "      <td>38</td>\n",
              "      <td>A</td>\n",
              "      <td>10.0</td>\n",
              "      <td>N</td>\n",
              "      <td>A</td>\n",
              "      <td>B</td>\n",
              "      <td>A</td>\n",
              "      <td>B</td>\n",
              "      <td>B</td>\n",
              "      <td>0</td>\n",
              "      <td>1</td>\n",
              "      <td>1</td>\n",
              "      <td>1</td>\n",
              "      <td>1</td>\n",
              "    </tr>\n",
              "    <tr>\n",
              "      <th>2</th>\n",
              "      <td>3</td>\n",
              "      <td>Salinopolis</td>\n",
              "      <td>M</td>\n",
              "      <td>42</td>\n",
              "      <td>A</td>\n",
              "      <td>24.0</td>\n",
              "      <td>S</td>\n",
              "      <td>D</td>\n",
              "      <td>B</td>\n",
              "      <td>A</td>\n",
              "      <td>B</td>\n",
              "      <td>B</td>\n",
              "      <td>0</td>\n",
              "      <td>1</td>\n",
              "      <td>1</td>\n",
              "      <td>1</td>\n",
              "      <td>1</td>\n",
              "    </tr>\n",
              "    <tr>\n",
              "      <th>3</th>\n",
              "      <td>4</td>\n",
              "      <td>Salinopolis</td>\n",
              "      <td>M</td>\n",
              "      <td>24</td>\n",
              "      <td>AB</td>\n",
              "      <td>6.0</td>\n",
              "      <td>N</td>\n",
              "      <td>A</td>\n",
              "      <td>B</td>\n",
              "      <td>A</td>\n",
              "      <td>B</td>\n",
              "      <td>B</td>\n",
              "      <td>0</td>\n",
              "      <td>1</td>\n",
              "      <td>1</td>\n",
              "      <td>1</td>\n",
              "      <td>1</td>\n",
              "    </tr>\n",
              "    <tr>\n",
              "      <th>4</th>\n",
              "      <td>5</td>\n",
              "      <td>Salinopolis</td>\n",
              "      <td>M</td>\n",
              "      <td>23</td>\n",
              "      <td>AB</td>\n",
              "      <td>6.0</td>\n",
              "      <td>S</td>\n",
              "      <td>A</td>\n",
              "      <td>B</td>\n",
              "      <td>A</td>\n",
              "      <td>B</td>\n",
              "      <td>B</td>\n",
              "      <td>0</td>\n",
              "      <td>1</td>\n",
              "      <td>1</td>\n",
              "      <td>1</td>\n",
              "      <td>1</td>\n",
              "    </tr>\n",
              "  </tbody>\n",
              "</table>\n",
              "</div>"
            ],
            "text/plain": [
              "   ID    MUNICIPIO SEXO  IDADE  ... q2_gab  q3_gab q4_gab q5_gab\n",
              "0   1  Salinopolis    M     32  ...      1       1      1      1\n",
              "1   2  Salinopolis    M     38  ...      1       1      1      1\n",
              "2   3  Salinopolis    M     42  ...      1       1      1      1\n",
              "3   4  Salinopolis    M     24  ...      1       1      1      1\n",
              "4   5  Salinopolis    M     23  ...      1       1      1      1\n",
              "\n",
              "[5 rows x 17 columns]"
            ]
          },
          "metadata": {},
          "execution_count": 95
        }
      ]
    },
    {
      "cell_type": "code",
      "metadata": {
        "colab": {
          "base_uri": "https://localhost:8080/",
          "height": 335
        },
        "id": "DK8dMDj9U92z",
        "outputId": "32d1cf5e-d07d-46e5-ddfc-cfd37564d0ef"
      },
      "source": [
        "errado = df.query('q1_gab == 0')['TEMPO_CNH']\n",
        "certo = df.query('q1_gab == 1')['TEMPO_CNH']\n",
        "\n",
        "plt.figure(figsize=(17,12))\n",
        "\n",
        "plt.subplot(2, 2, 1)\n",
        "sns.distplot(errado)\n",
        "plt.title('Frequência do tempo de CNH de quem respondeu errado a questão 1')\n",
        "\n",
        "plt.subplot(2, 2, 2)\n",
        "sns.distplot(certo)\n",
        "plt.title('Frequência do tempo de CNH de quem respondeu certo a questão 1');\n"
      ],
      "execution_count": 111,
      "outputs": [
        {
          "output_type": "display_data",
          "data": {
            "image/png": "[encoded data removed]",
            "text/plain": [
              "<Figure size 1224x864 with 2 Axes>"
            ]
          },
          "metadata": {
            "needs_background": "light"
          }
        }
      ]
    },
    {
      "cell_type": "markdown",
      "metadata": {
        "id": "wfCBIXIacDaD"
      },
      "source": [
        "# Teste de Hipótese"
      ]
    },
    {
      "cell_type": "markdown",
      "metadata": {
        "id": "OjiPUy7Ce4__"
      },
      "source": [
        "### Escolhendo a hipótese nula e a alternativa:\n",
        "H0 = A distribuição do tempo de CNH não difere entre as pessoas que erraram e as que acertaram a questão 1.\n",
        "\n",
        "H1 = A distribuição do tempo de CNH difere entre as pessoas que erraran e as que acertaram a questão 1.\n"
      ]
    },
    {
      "cell_type": "code",
      "metadata": {
        "colab": {
          "base_uri": "https://localhost:8080/"
        },
        "id": "pPURZ46Kds1T",
        "outputId": "dd0e8658-a662-4d31-844f-5dc93278f91b"
      },
      "source": [
        "ztest, pvalue = stests.ztest(x1=errado, x2=certo)\n",
        "if pvalue < 0.05:\n",
        "  print('Como o p-value: {:.3f} e é menor que 5% temos evidências o suficiente para rejeitar a hipótese nula'.format(pvalue))\n",
        "else:\n",
        "  print('Como o p-value: {:.3f} e é maior que 5% não temos evidências o suficiente para rejeitar a hipótese nula'.format(pvalue))"
      ],
      "execution_count": 112,
      "outputs": [
        {
          "output_type": "stream",
          "name": "stdout",
          "text": [
            "Como o p-value: 0.726 e é maior que 5% não temos evidências o suficiente para rejeitar a hipótese nula\n"
          ]
        }
      ]
    },
    {
      "cell_type": "markdown",
      "metadata": {
        "id": "mEdAQnMZzEgC"
      },
      "source": [
        "### Escolhendo a hipótese nula e a alternativa:\n",
        "H0 = A distribuição do tempo de CNH não difere entre as pessoas que erraram e as que acertaram a questão 2.\n",
        "\n",
        "H1 = A distribuição do tempo de CNH difere entre as pessoas que erraran e as que acertaram a questão 2."
      ]
    },
    {
      "cell_type": "code",
      "metadata": {
        "colab": {
          "base_uri": "https://localhost:8080/"
        },
        "id": "NZ1-v_WSik5L",
        "outputId": "6eca427b-d908-4a26-bcb1-25635e52c1e3"
      },
      "source": [
        "errado = df.query('q2_gab == 0')['TEMPO_CNH']\n",
        "certo = df.query('q2_gab == 1')['TEMPO_CNH']\n",
        "\n",
        "ztest, pvalue = stests.ztest(x1=errado, x2=certo)\n",
        "if pvalue < 0.05:\n",
        "  print('Como o p-value: {:.3f} e é menor que 5% temos evidências o suficiente para rejeitar a hipótese nula'.format(pvalue))\n",
        "else:\n",
        "  print('Como o p-value: {:.3f} e é maior que 5% não temos evidências o suficiente para rejeitar a hipótese nula'.format(pvalue))"
      ],
      "execution_count": 113,
      "outputs": [
        {
          "output_type": "stream",
          "name": "stdout",
          "text": [
            "Como o p-value: 0.842 e é maior que 5% não temos evidências o suficiente para rejeitar a hipótese nula\n"
          ]
        }
      ]
    },
    {
      "cell_type": "markdown",
      "metadata": {
        "id": "_o523CzszO94"
      },
      "source": [
        "### Escolhendo a hipótese nula e a alternativa:\n",
        "H0 = A distribuição do tempo de CNH não difere entre as pessoas que erraram e as que acertaram a questão 3.\n",
        "\n",
        "H1 = A distribuição do tempo de CNH difere entre as pessoas que erraran e as que acertaram a questão 3."
      ]
    },
    {
      "cell_type": "code",
      "metadata": {
        "colab": {
          "base_uri": "https://localhost:8080/"
        },
        "id": "lN6eP71czH9g",
        "outputId": "7d109033-f4ed-4f36-efb2-6bbfa1b65f1e"
      },
      "source": [
        "errado = df.query('q3_gab == 0')['TEMPO_CNH']\n",
        "certo = df.query('q3_gab == 1')['TEMPO_CNH']\n",
        "\n",
        "ztest, pvalue = stests.ztest(x1=errado, x2=certo)\n",
        "if pvalue < 0.05:\n",
        "  print('Como o p-value: {:.3f} e é menor que 5% temos evidências o suficiente para rejeitar a hipótese nula'.format(pvalue))\n",
        "else:\n",
        "  print('Como o p-value: {:.3f} e é maior que 5% não temos evidências o suficiente para rejeitar a hipótese nula'.format(pvalue))"
      ],
      "execution_count": 114,
      "outputs": [
        {
          "output_type": "stream",
          "name": "stdout",
          "text": [
            "Como o p-value: 0.808 e é maior que 5% não temos evidências o suficiente para rejeitar a hipótese nula\n"
          ]
        }
      ]
    },
    {
      "cell_type": "code",
      "metadata": {
        "colab": {
          "base_uri": "https://localhost:8080/"
        },
        "id": "2aBCr2akzSF2",
        "outputId": "9e5b9502-78cf-4c3a-d075-634d2a64d653"
      },
      "source": [
        "errado = df.query('q4_gab == 0')['TEMPO_CNH']\n",
        "certo = df.query('q4_gab == 1')['TEMPO_CNH']\n",
        "\n",
        "ztest, pvalue = stests.ztest(x1=errado, x2=certo)\n",
        "if pvalue < 0.05:\n",
        "  print('Como o p-value: {:.3f} e é menor que 5% temos evidências o suficiente para rejeitar a hipótese nula'.format(pvalue))\n",
        "else:\n",
        "  print('Como o p-value: {:.3f} e é maior que 5% não temos evidências o suficiente para rejeitar a hipótese nula'.format(pvalue))"
      ],
      "execution_count": 115,
      "outputs": [
        {
          "output_type": "stream",
          "name": "stdout",
          "text": [
            "Como o p-value: 0.114 e é maior que 5% não temos evidências o suficiente para rejeitar a hipótese nula\n"
          ]
        }
      ]
    },
    {
      "cell_type": "code",
      "metadata": {
        "colab": {
          "base_uri": "https://localhost:8080/"
        },
        "id": "wqBrvgwzzwzV",
        "outputId": "12a250a5-30c1-4ac6-e07e-5d99de5decbb"
      },
      "source": [
        "errado = df.query('q5_gab == 0')['TEMPO_CNH']\n",
        "certo = df.query('q5_gab == 1')['TEMPO_CNH']\n",
        "\n",
        "ztest, pvalue = stests.ztest(x1=errado, x2=certo)\n",
        "if pvalue < 0.05:\n",
        "  print('Como o p-value: {:.3f} e é menor que 5% temos evidências o suficiente para rejeitar a hipótese nula'.format(pvalue))\n",
        "else:\n",
        "  print('Como o p-value: {:.3f} e é maior que 5% não temos evidências o suficiente para rejeitar a hipótese nula'.format(pvalue))"
      ],
      "execution_count": 116,
      "outputs": [
        {
          "output_type": "stream",
          "name": "stdout",
          "text": [
            "Como o p-value: 0.132 e é maior que 5% não temos evidências o suficiente para rejeitar a hipótese nula\n"
          ]
        }
      ]
    },
    {
      "cell_type": "code",
      "metadata": {
        "id": "F6kcnZ3T0IzK"
      },
      "source": [
        ""
      ],
      "execution_count": 116,
      "outputs": []
    }
  ]
}